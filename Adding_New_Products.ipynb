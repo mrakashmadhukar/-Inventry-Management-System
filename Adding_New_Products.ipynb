{
  "nbformat": 4,
  "nbformat_minor": 0,
  "metadata": {
    "colab": {
      "name": "Adding New Products.ipynb",
      "provenance": [],
      "collapsed_sections": []
    },
    "kernelspec": {
      "name": "python3",
      "display_name": "Python 3"
    },
    "language_info": {
      "name": "python"
    }
  },
  "cells": [
    {
      "cell_type": "code",
      "metadata": {
        "id": "6RS-zVFjppXO"
      },
      "source": [
        "import json"
      ],
      "execution_count": 16,
      "outputs": []
    },
    {
      "cell_type": "code",
      "metadata": {
        "id": "rw-sgPbEprqt"
      },
      "source": [
        "fd = open(\"record.json\",'r')\n",
        "r = fd.read()\n",
        "fd.close()"
      ],
      "execution_count": 17,
      "outputs": []
    },
    {
      "cell_type": "code",
      "metadata": {
        "colab": {
          "base_uri": "https://localhost:8080/",
          "height": 69
        },
        "id": "caiA91xqqBtI",
        "outputId": "c500a835-83a9-4328-b1c3-350926e1bd26"
      },
      "source": [
        "r"
      ],
      "execution_count": 18,
      "outputs": [
        {
          "output_type": "execute_result",
          "data": {
            "application/vnd.google.colaboratory.intrinsic+json": {
              "type": "string"
            },
            "text/plain": [
              "'{\"1001\": {\"name\": \"Choco Cake\", \"qn\": 34, \"pr\": 100}, \"1002\": {\"name\": \"Milk Cake\", \"pr\": 800, \"qn\": 100}, \"1003\": {\"name\": \"Drink\", \"pr\": 85, \"qn\": 100}, \"1004\": {\"name\": \"Candy\", \"pr\": 5, \"qn\": 1000}, \"1005\": {\"name\": \"Pen\", \"pr\": 20, \"qn\": 100}, \"1006\": {\"name\": \"Phone\", \"pr\": 50000, \"qn\": 10}, \"1007\": {\"name\": \"Mic\", \"pr\": 1500, \"qn\": 0}, \"1008\": {\"name\": \"Case\", \"pr\": 599, \"qn\": 5}, \"1009\": {\"name\": \"Keyboard\", \"pr\": 1999, \"qn\": 10}}'"
            ]
          },
          "metadata": {},
          "execution_count": 18
        }
      ]
    },
    {
      "cell_type": "code",
      "metadata": {
        "id": "Rg-uU6PeqDLS"
      },
      "source": [
        "##Change into Dictionary"
      ],
      "execution_count": 19,
      "outputs": []
    },
    {
      "cell_type": "code",
      "metadata": {
        "id": "fOqc8mUAqPKv"
      },
      "source": [
        "record = json.loads(r)"
      ],
      "execution_count": 20,
      "outputs": []
    },
    {
      "cell_type": "code",
      "metadata": {
        "colab": {
          "base_uri": "https://localhost:8080/"
        },
        "id": "SNA8CPk4qSW-",
        "outputId": "1fe49e69-3aba-4000-e60d-c5b61c63cd62"
      },
      "source": [
        "record"
      ],
      "execution_count": 21,
      "outputs": [
        {
          "output_type": "execute_result",
          "data": {
            "text/plain": [
              "{'1001': {'name': 'Choco Cake', 'pr': 100, 'qn': 34},\n",
              " '1002': {'name': 'Milk Cake', 'pr': 800, 'qn': 100},\n",
              " '1003': {'name': 'Drink', 'pr': 85, 'qn': 100},\n",
              " '1004': {'name': 'Candy', 'pr': 5, 'qn': 1000},\n",
              " '1005': {'name': 'Pen', 'pr': 20, 'qn': 100},\n",
              " '1006': {'name': 'Phone', 'pr': 50000, 'qn': 10},\n",
              " '1007': {'name': 'Mic', 'pr': 1500, 'qn': 0},\n",
              " '1008': {'name': 'Case', 'pr': 599, 'qn': 5},\n",
              " '1009': {'name': 'Keyboard', 'pr': 1999, 'qn': 10}}"
            ]
          },
          "metadata": {},
          "execution_count": 21
        }
      ]
    },
    {
      "cell_type": "code",
      "metadata": {
        "id": "gB1k6-p9qTe6"
      },
      "source": [
        "## Add New Item into Inventory"
      ],
      "execution_count": 22,
      "outputs": []
    },
    {
      "cell_type": "code",
      "metadata": {
        "colab": {
          "base_uri": "https://localhost:8080/"
        },
        "id": "Ec-LKsQ-qg-T",
        "outputId": "48c27f84-8a66-478e-f8e2-b2b251105e09"
      },
      "source": [
        "prod_id = str(input(\"Enter product id:\"))\n",
        "name = str(input(\"Enter name:\"))\n",
        "pr = int(input(\"Enter price:\"))\n",
        "qn = int(input(\"Enter quantity:\"))"
      ],
      "execution_count": 23,
      "outputs": [
        {
          "name": "stdout",
          "output_type": "stream",
          "text": [
            "Enter product id:1010\n",
            "Enter name:Mouse\n",
            "Enter price:1500\n",
            "Enter quantity:10\n"
          ]
        }
      ]
    },
    {
      "cell_type": "code",
      "metadata": {
        "id": "t1LdC2sXq2be"
      },
      "source": [
        "record[prod_id] = {'name': name, 'pr': pr, 'qn': qn}"
      ],
      "execution_count": 24,
      "outputs": []
    },
    {
      "cell_type": "code",
      "metadata": {
        "colab": {
          "base_uri": "https://localhost:8080/"
        },
        "id": "OrCkV4S8rEAY",
        "outputId": "04b847ac-6232-43e8-cd99-8406ee41d5ac"
      },
      "source": [
        "prod_id = str(input(\"Enter product id:\"))\n",
        "name = str(input(\"Enter name:\"))\n",
        "pr = int(input(\"Enter price:\"))\n",
        "qn = int(input(\"Enter quantity:\"))"
      ],
      "execution_count": 25,
      "outputs": [
        {
          "name": "stdout",
          "output_type": "stream",
          "text": [
            "Enter product id:1011\n",
            "Enter name:Data Cable\n",
            "Enter price:250\n",
            "Enter quantity:20\n"
          ]
        }
      ]
    },
    {
      "cell_type": "code",
      "metadata": {
        "id": "AwfjPW_WrQMf"
      },
      "source": [
        "record[prod_id] = {'name': name, 'pr': pr, 'qn': qn}"
      ],
      "execution_count": 29,
      "outputs": []
    },
    {
      "cell_type": "code",
      "metadata": {
        "colab": {
          "base_uri": "https://localhost:8080/"
        },
        "id": "X0oI-FqBrssC",
        "outputId": "ce5cd84e-8785-4d41-ef88-18ee3f03d78d"
      },
      "source": [
        "prod_id = str(input(\"Enter product id:\"))\n",
        "name = str(input(\"Enter name:\"))\n",
        "pr = int(input(\"Enter price:\"))\n",
        "qn = int(input(\"Enter quantity:\"))\n",
        "record[prod_id] = {'name': name, 'pr': pr, 'qn': qn}"
      ],
      "execution_count": 77,
      "outputs": [
        {
          "name": "stdout",
          "output_type": "stream",
          "text": [
            "Enter product id:1012\n",
            "Enter name:Mouse 1\n",
            "Enter price:200\n",
            "Enter quantity:20\n"
          ]
        }
      ]
    },
    {
      "cell_type": "code",
      "metadata": {
        "colab": {
          "base_uri": "https://localhost:8080/"
        },
        "id": "srh_HwHZssMm",
        "outputId": "b81afcfe-365e-4e19-cea0-8dc0b372abbb"
      },
      "source": [
        "prod_id = str(input(\"Enter product id:\"))\n",
        "name = str(input(\"Enter name:\"))\n",
        "pr = int(input(\"Enter price:\"))\n",
        "qn = int(input(\"Enter quantity:\"))\n",
        "record[prod_id] = {'name': name, 'pr': pr, 'qn': qn}"
      ],
      "execution_count": 79,
      "outputs": [
        {
          "name": "stdout",
          "output_type": "stream",
          "text": [
            "Enter product id:1013\n",
            "Enter name:Desktop\n",
            "Enter price:50000\n",
            "Enter quantity:49\n"
          ]
        }
      ]
    },
    {
      "cell_type": "code",
      "metadata": {
        "colab": {
          "base_uri": "https://localhost:8080/"
        },
        "id": "H5myUJxRtP1f",
        "outputId": "21491c81-966f-4173-de85-ecb118dfc190"
      },
      "source": [
        "prod_id = str(input(\"Enter product id:\"))\n",
        "name = str(input(\"Enter name:\"))\n",
        "pr = int(input(\"Enter price:\"))\n",
        "qn = int(input(\"Enter quantity:\"))\n",
        "record[prod_id] = {'name': name, 'pr': pr, 'qn': qn}"
      ],
      "execution_count": 81,
      "outputs": [
        {
          "name": "stdout",
          "output_type": "stream",
          "text": [
            "Enter product id:1014\n",
            "Enter name:Gaming Mouse\n",
            "Enter price:700\n",
            "Enter quantity:30\n"
          ]
        }
      ]
    },
    {
      "cell_type": "code",
      "metadata": {
        "colab": {
          "base_uri": "https://localhost:8080/"
        },
        "id": "cT2lilnawRdS",
        "outputId": "3860349a-ab3b-42b6-e7d3-d483e17d9a09"
      },
      "source": [
        "prod_id = str(input(\"Enter product id:\"))\n",
        "name = str(input(\"Enter name:\"))\n",
        "pr = int(input(\"Enter price:\"))\n",
        "qn = int(input(\"Enter quantity:\"))\n",
        "record[prod_id] = {'name': name, 'pr': pr, 'qn': qn}"
      ],
      "execution_count": 84,
      "outputs": [
        {
          "name": "stdout",
          "output_type": "stream",
          "text": [
            "Enter product id:1015\n",
            "Enter name:Gaming Keyboard\n",
            "Enter price:5000\n",
            "Enter quantity:45\n"
          ]
        }
      ]
    },
    {
      "cell_type": "code",
      "metadata": {
        "colab": {
          "base_uri": "https://localhost:8080/"
        },
        "id": "qcUYH6vfwfOJ",
        "outputId": "69556ecf-a923-4efa-d070-73308f8c88d8"
      },
      "source": [
        "prod_id = str(input(\"Enter product id:\"))\n",
        "name = str(input(\"Enter name:\"))\n",
        "pr = int(input(\"Enter price:\"))\n",
        "qn = int(input(\"Enter quantity:\"))\n",
        "record[prod_id] = {'name': name, 'pr': pr, 'qn': qn}"
      ],
      "execution_count": 87,
      "outputs": [
        {
          "name": "stdout",
          "output_type": "stream",
          "text": [
            "Enter product id:1016\n",
            "Enter name:Head Phone\n",
            "Enter price:699\n",
            "Enter quantity:30\n"
          ]
        }
      ]
    },
    {
      "cell_type": "code",
      "metadata": {
        "colab": {
          "base_uri": "https://localhost:8080/"
        },
        "id": "bgbHj4VFwoYL",
        "outputId": "c6152916-8983-49e5-9eb4-5ecf6c93a62e"
      },
      "source": [
        "prod_id = str(input(\"Enter product id:\"))\n",
        "name = str(input(\"Enter name:\"))\n",
        "pr = int(input(\"Enter price:\"))\n",
        "qn = int(input(\"Enter quantity:\"))\n",
        "record[prod_id] = {'name': name, 'pr': pr, 'qn': qn}"
      ],
      "execution_count": 88,
      "outputs": [
        {
          "name": "stdout",
          "output_type": "stream",
          "text": [
            "Enter product id:1017\n",
            "Enter name:bluetooth Headphone\n",
            "Enter price:900\n",
            "Enter quantity:43\n"
          ]
        }
      ]
    },
    {
      "cell_type": "code",
      "metadata": {
        "colab": {
          "base_uri": "https://localhost:8080/"
        },
        "id": "oyuVOPhMwu-q",
        "outputId": "580a14b4-a911-4f4c-b556-674166e743b3"
      },
      "source": [
        "prod_id = str(input(\"Enter product id:\"))\n",
        "name = str(input(\"Enter name:\"))\n",
        "pr = int(input(\"Enter price:\"))\n",
        "qn = int(input(\"Enter quantity:\"))\n",
        "record[prod_id] = {'name': name, 'pr': pr, 'qn': qn}"
      ],
      "execution_count": 89,
      "outputs": [
        {
          "name": "stdout",
          "output_type": "stream",
          "text": [
            "Enter product id:1018\n",
            "Enter name:Usb Hub\n",
            "Enter price:600\n",
            "Enter quantity:49\n"
          ]
        }
      ]
    },
    {
      "cell_type": "code",
      "metadata": {
        "colab": {
          "base_uri": "https://localhost:8080/"
        },
        "id": "ZDGM9ockxDo0",
        "outputId": "187d6b78-dc03-4e63-b893-93962c960b09"
      },
      "source": [
        "prod_id = str(input(\"Enter product id:\"))\n",
        "name = str(input(\"Enter name:\"))\n",
        "pr = int(input(\"Enter price:\"))\n",
        "qn = int(input(\"Enter quantity:\"))\n",
        "record[prod_id] = {'name': name, 'pr': pr, 'qn': qn}"
      ],
      "execution_count": 93,
      "outputs": [
        {
          "name": "stdout",
          "output_type": "stream",
          "text": [
            "Enter product id:1019\n",
            "Enter name:Card  Reader\n",
            "Enter price:500\n",
            "Enter quantity:40\n"
          ]
        }
      ]
    },
    {
      "cell_type": "code",
      "metadata": {
        "colab": {
          "base_uri": "https://localhost:8080/"
        },
        "id": "HgsAVBvzxULG",
        "outputId": "d6571b12-6e80-425b-942c-1dd6200a4414"
      },
      "source": [
        "prod_id = str(input(\"Enter product id:\"))\n",
        "name = str(input(\"Enter name:\"))\n",
        "pr = int(input(\"Enter price:\"))\n",
        "qn = int(input(\"Enter quantity:\"))\n",
        "record[prod_id] = {'name': name, 'pr': pr, 'qn': qn}"
      ],
      "execution_count": 96,
      "outputs": [
        {
          "name": "stdout",
          "output_type": "stream",
          "text": [
            "Enter product id:1020\n",
            "Enter name:LED TV\n",
            "Enter price:15000\n",
            "Enter quantity:50\n"
          ]
        }
      ]
    },
    {
      "cell_type": "code",
      "metadata": {
        "colab": {
          "base_uri": "https://localhost:8080/"
        },
        "id": "2KP39BAmxiDt",
        "outputId": "34b5e138-1237-434f-b7d9-bb41c01c1709"
      },
      "source": [
        "prod_id = str(input(\"Enter product id:\"))\n",
        "name = str(input(\"Enter name:\"))\n",
        "pr = int(input(\"Enter price:\"))\n",
        "qn = int(input(\"Enter quantity:\"))\n",
        "record[prod_id] = {'name': name, 'pr': pr, 'qn': qn}"
      ],
      "execution_count": 98,
      "outputs": [
        {
          "name": "stdout",
          "output_type": "stream",
          "text": [
            "Enter product id:1021\n",
            "Enter name:LCD\n",
            "Enter price:20000\n",
            "Enter quantity:30\n"
          ]
        }
      ]
    },
    {
      "cell_type": "code",
      "metadata": {
        "colab": {
          "base_uri": "https://localhost:8080/"
        },
        "id": "iz76-Frvxtb7",
        "outputId": "ab13d543-3ea0-4ef6-d84e-8060f9017019"
      },
      "source": [
        "prod_id = str(input(\"Enter product id:\"))\n",
        "name = str(input(\"Enter name:\"))\n",
        "pr = int(input(\"Enter price:\"))\n",
        "qn = int(input(\"Enter quantity:\"))\n",
        "record[prod_id] = {'name': name, 'pr': pr, 'qn': qn}"
      ],
      "execution_count": 102,
      "outputs": [
        {
          "name": "stdout",
          "output_type": "stream",
          "text": [
            "Enter product id:1022\n",
            "Enter name:Monitor \n",
            "Enter price:30000\n",
            "Enter quantity:34\n"
          ]
        }
      ]
    },
    {
      "cell_type": "code",
      "metadata": {
        "colab": {
          "base_uri": "https://localhost:8080/"
        },
        "id": "NSitovEpx1e6",
        "outputId": "c36013b2-84a8-404a-ca4e-4a17b2647a01"
      },
      "source": [
        "prod_id = str(input(\"Enter product id:\"))\n",
        "name = str(input(\"Enter name:\"))\n",
        "pr = int(input(\"Enter price:\"))\n",
        "qn = int(input(\"Enter quantity:\"))\n",
        "record[prod_id] = {'name': name, 'pr': pr, 'qn': qn}\n"
      ],
      "execution_count": 105,
      "outputs": [
        {
          "name": "stdout",
          "output_type": "stream",
          "text": [
            "Enter product id:1023\n",
            "Enter name:Notes \n",
            "Enter price:400\n",
            "Enter quantity:23\n"
          ]
        }
      ]
    },
    {
      "cell_type": "code",
      "metadata": {
        "colab": {
          "base_uri": "https://localhost:8080/"
        },
        "id": "IBmm3zEmyB8p",
        "outputId": "c2fc7b09-562b-49b4-b690-0c5724c64197"
      },
      "source": [
        "prod_id = str(input(\"Enter product id:\"))\n",
        "name = str(input(\"Enter name:\"))\n",
        "pr = int(input(\"Enter price:\"))\n",
        "qn = int(input(\"Enter quantity:\"))\n",
        "record[prod_id] = {'name': name, 'pr': pr, 'qn': qn}"
      ],
      "execution_count": 106,
      "outputs": [
        {
          "name": "stdout",
          "output_type": "stream",
          "text": [
            "Enter product id:1024\n",
            "Enter name:copy\n",
            "Enter price:500\n",
            "Enter quantity:34\n"
          ]
        }
      ]
    },
    {
      "cell_type": "code",
      "metadata": {
        "colab": {
          "base_uri": "https://localhost:8080/"
        },
        "id": "wQwn0rHNyJWv",
        "outputId": "3ea92c0c-05ed-40d6-b0dc-4e4c20cb9a4a"
      },
      "source": [
        "prod_id = str(input(\"Enter product id:\"))\n",
        "name = str(input(\"Enter name:\"))\n",
        "pr = int(input(\"Enter price:\"))\n",
        "qn = int(input(\"Enter quantity:\"))\n",
        "record[prod_id] = {'name': name, 'pr': pr, 'qn': qn}"
      ],
      "execution_count": 108,
      "outputs": [
        {
          "name": "stdout",
          "output_type": "stream",
          "text": [
            "Enter product id:1025\n",
            "Enter name:Computer Table\n",
            "Enter price:890\n",
            "Enter quantity:34\n"
          ]
        }
      ]
    },
    {
      "cell_type": "code",
      "metadata": {
        "colab": {
          "base_uri": "https://localhost:8080/"
        },
        "id": "BmebWdvJyU0O",
        "outputId": "00c7907b-b24b-49c5-e99e-d562027659be"
      },
      "source": [
        "prod_id = str(input(\"Enter product id:\"))\n",
        "name = str(input(\"Enter name:\"))\n",
        "pr = int(input(\"Enter price:\"))\n",
        "qn = int(input(\"Enter quantity:\"))\n",
        "record[prod_id] = {'name': name, 'pr': pr, 'qn': qn}"
      ],
      "execution_count": 110,
      "outputs": [
        {
          "name": "stdout",
          "output_type": "stream",
          "text": [
            "Enter product id:1026\n",
            "Enter name:Ac \n",
            "Enter price:20000\n",
            "Enter quantity:20\n"
          ]
        }
      ]
    },
    {
      "cell_type": "code",
      "metadata": {
        "colab": {
          "base_uri": "https://localhost:8080/"
        },
        "id": "p6lv0faHyiPx",
        "outputId": "0ed7cb53-f4bd-4b6c-d761-13298723ec78"
      },
      "source": [
        "prod_id = str(input(\"Enter product id:\"))\n",
        "name = str(input(\"Enter name:\"))\n",
        "pr = int(input(\"Enter price:\"))\n",
        "qn = int(input(\"Enter quantity:\"))\n",
        "record[prod_id] = {'name': name, 'pr': pr, 'qn': qn}"
      ],
      "execution_count": 112,
      "outputs": [
        {
          "name": "stdout",
          "output_type": "stream",
          "text": [
            "Enter product id:1027\n",
            "Enter name:AC 2L\n",
            "Enter price:50000\n",
            "Enter quantity:44\n"
          ]
        }
      ]
    },
    {
      "cell_type": "code",
      "metadata": {
        "colab": {
          "base_uri": "https://localhost:8080/"
        },
        "id": "hXiz8_9GypOr",
        "outputId": "624eea59-f367-4240-8b09-6103b85fbf97"
      },
      "source": [
        "prod_id = str(input(\"Enter product id:\"))\n",
        "name = str(input(\"Enter name:\"))\n",
        "pr = int(input(\"Enter price:\"))\n",
        "qn = int(input(\"Enter quantity:\"))\n",
        "record[prod_id] = {'name': name, 'pr': pr, 'qn': qn}"
      ],
      "execution_count": 119,
      "outputs": [
        {
          "name": "stdout",
          "output_type": "stream",
          "text": [
            "Enter product id:1028\n",
            "Enter name:Ac 1.5L\n",
            "Enter price:24000\n",
            "Enter quantity:45\n"
          ]
        }
      ]
    },
    {
      "cell_type": "code",
      "metadata": {
        "colab": {
          "base_uri": "https://localhost:8080/"
        },
        "id": "ByYg4RD7yx-g",
        "outputId": "0936a8e6-3563-49e6-c613-885df74e8886"
      },
      "source": [
        "prod_id = str(input(\"Enter product id:\"))\n",
        "name = str(input(\"Enter name:\"))\n",
        "pr = int(input(\"Enter price:\"))\n",
        "qn = int(input(\"Enter quantity:\"))\n",
        "record[prod_id] = {'name': name, 'pr': pr, 'qn': qn}"
      ],
      "execution_count": 120,
      "outputs": [
        {
          "name": "stdout",
          "output_type": "stream",
          "text": [
            "Enter product id:1029\n",
            "Enter name:Ac 3L\n",
            "Enter price:56779\n",
            "Enter quantity:67\n"
          ]
        }
      ]
    },
    {
      "cell_type": "code",
      "metadata": {
        "colab": {
          "base_uri": "https://localhost:8080/"
        },
        "id": "wBHC7tpuy75T",
        "outputId": "95c80f5a-6761-450b-e89a-7d0ec2ba493b"
      },
      "source": [
        "prod_id = str(input(\"Enter product id:\"))\n",
        "name = str(input(\"Enter name:\"))\n",
        "pr = int(input(\"Enter price:\"))\n",
        "qn = int(input(\"Enter quantity:\"))\n",
        "record[prod_id] = {'name': name, 'pr': pr, 'qn': qn}"
      ],
      "execution_count": 121,
      "outputs": [
        {
          "name": "stdout",
          "output_type": "stream",
          "text": [
            "Enter product id:1030\n",
            "Enter name:C Type Cable\n",
            "Enter price:300\n",
            "Enter quantity:10\n"
          ]
        }
      ]
    },
    {
      "cell_type": "code",
      "metadata": {
        "id": "InlKqXJOzMHR"
      },
      "source": [
        "js = json.dumps(record)"
      ],
      "execution_count": 70,
      "outputs": []
    },
    {
      "cell_type": "code",
      "metadata": {
        "colab": {
          "base_uri": "https://localhost:8080/"
        },
        "id": "oSmCsQcazPFn",
        "outputId": "cf6f6b8f-2c9c-4bee-83e5-4e90977e7eb6"
      },
      "source": [
        "record"
      ],
      "execution_count": 122,
      "outputs": [
        {
          "output_type": "execute_result",
          "data": {
            "text/plain": [
              "{'1001': {'name': 'Choco Cake', 'pr': 100, 'qn': 34},\n",
              " '1002': {'name': 'Milk Cake', 'pr': 800, 'qn': 100},\n",
              " '1003': {'name': 'Drink', 'pr': 85, 'qn': 100},\n",
              " '1004': {'name': 'Candy', 'pr': 5, 'qn': 1000},\n",
              " '1005': {'name': 'Pen', 'pr': 20, 'qn': 100},\n",
              " '1006': {'name': 'Phone', 'pr': 50000, 'qn': 10},\n",
              " '1007': {'name': 'Mic', 'pr': 1500, 'qn': 0},\n",
              " '1008': {'name': 'Case', 'pr': 599, 'qn': 5},\n",
              " '1009': {'name': 'Keyboard', 'pr': 1999, 'qn': 10},\n",
              " '1010': {'name': 'Mouse', 'pr': 1500, 'qn': 10},\n",
              " '1011': {'name': 'Data Cable', 'pr': 250, 'qn': 20},\n",
              " '1012': {'name': 'Mouse 1', 'pr': 200, 'qn': 20},\n",
              " '1013': {'name': 'Desktop', 'pr': 50000, 'qn': 49},\n",
              " '1014': {'name': 'Gaming Mouse', 'pr': 700, 'qn': 30},\n",
              " '1015': {'name': 'Gaming Keyboard', 'pr': 5000, 'qn': 45},\n",
              " '1016': {'name': 'Head Phone', 'pr': 699, 'qn': 30},\n",
              " '1017': {'name': 'bluetooth Headphone', 'pr': 900, 'qn': 43},\n",
              " '1018': {'name': 'Usb Hub', 'pr': 600, 'qn': 49},\n",
              " '1019': {'name': 'Card  Reader', 'pr': 500, 'qn': 40},\n",
              " '102': {'name': 'Mouse 1', 'pr': 200, 'qn': 200},\n",
              " '1020': {'name': 'LED TV', 'pr': 15000, 'qn': 50},\n",
              " '1021': {'name': 'LCD', 'pr': 20000, 'qn': 30},\n",
              " '1022': {'name': 'Monitor ', 'pr': 30000, 'qn': 34},\n",
              " '1023': {'name': 'Notes ', 'pr': 400, 'qn': 23},\n",
              " '1025': {'name': 'Computer Table', 'pr': 890, 'qn': 34},\n",
              " '1026': {'name': 'Ac ', 'pr': 20000, 'qn': 20},\n",
              " '1027': {'name': 'AC 2L', 'pr': 50000, 'qn': 44},\n",
              " '1028': {'name': 'Ac 1.5L', 'pr': 24000, 'qn': 45},\n",
              " '1029': {'name': 'Ac 3L', 'pr': 56779, 'qn': 67},\n",
              " '1030': {'name': 'C Type Cable', 'pr': 300, 'qn': 10},\n",
              " '2028': {'name': 'Ac 1.5', 'pr': 23000, 'qn': 45}}"
            ]
          },
          "metadata": {},
          "execution_count": 122
        }
      ]
    },
    {
      "cell_type": "code",
      "metadata": {
        "id": "VBqlWswz94BE"
      },
      "source": [
        "del record['2028']"
      ],
      "execution_count": 123,
      "outputs": []
    },
    {
      "cell_type": "code",
      "metadata": {
        "id": "AFiWUeeo-Tgq"
      },
      "source": [
        "del record['102']"
      ],
      "execution_count": 124,
      "outputs": []
    },
    {
      "cell_type": "code",
      "metadata": {
        "colab": {
          "base_uri": "https://localhost:8080/"
        },
        "id": "xs9I1Lfb-XGy",
        "outputId": "d6a9f9a9-0dbb-4900-cdee-03e039106225"
      },
      "source": [
        "record"
      ],
      "execution_count": 125,
      "outputs": [
        {
          "output_type": "execute_result",
          "data": {
            "text/plain": [
              "{'1001': {'name': 'Choco Cake', 'pr': 100, 'qn': 34},\n",
              " '1002': {'name': 'Milk Cake', 'pr': 800, 'qn': 100},\n",
              " '1003': {'name': 'Drink', 'pr': 85, 'qn': 100},\n",
              " '1004': {'name': 'Candy', 'pr': 5, 'qn': 1000},\n",
              " '1005': {'name': 'Pen', 'pr': 20, 'qn': 100},\n",
              " '1006': {'name': 'Phone', 'pr': 50000, 'qn': 10},\n",
              " '1007': {'name': 'Mic', 'pr': 1500, 'qn': 0},\n",
              " '1008': {'name': 'Case', 'pr': 599, 'qn': 5},\n",
              " '1009': {'name': 'Keyboard', 'pr': 1999, 'qn': 10},\n",
              " '1010': {'name': 'Mouse', 'pr': 1500, 'qn': 10},\n",
              " '1011': {'name': 'Data Cable', 'pr': 250, 'qn': 20},\n",
              " '1012': {'name': 'Mouse 1', 'pr': 200, 'qn': 20},\n",
              " '1013': {'name': 'Desktop', 'pr': 50000, 'qn': 49},\n",
              " '1014': {'name': 'Gaming Mouse', 'pr': 700, 'qn': 30},\n",
              " '1015': {'name': 'Gaming Keyboard', 'pr': 5000, 'qn': 45},\n",
              " '1016': {'name': 'Head Phone', 'pr': 699, 'qn': 30},\n",
              " '1017': {'name': 'bluetooth Headphone', 'pr': 900, 'qn': 43},\n",
              " '1018': {'name': 'Usb Hub', 'pr': 600, 'qn': 49},\n",
              " '1019': {'name': 'Card  Reader', 'pr': 500, 'qn': 40},\n",
              " '1020': {'name': 'LED TV', 'pr': 15000, 'qn': 50},\n",
              " '1021': {'name': 'LCD', 'pr': 20000, 'qn': 30},\n",
              " '1022': {'name': 'Monitor ', 'pr': 30000, 'qn': 34},\n",
              " '1023': {'name': 'Notes ', 'pr': 400, 'qn': 23},\n",
              " '1025': {'name': 'Computer Table', 'pr': 890, 'qn': 34},\n",
              " '1026': {'name': 'Ac ', 'pr': 20000, 'qn': 20},\n",
              " '1027': {'name': 'AC 2L', 'pr': 50000, 'qn': 44},\n",
              " '1028': {'name': 'Ac 1.5L', 'pr': 24000, 'qn': 45},\n",
              " '1029': {'name': 'Ac 3L', 'pr': 56779, 'qn': 67},\n",
              " '1030': {'name': 'C Type Cable', 'pr': 300, 'qn': 10}}"
            ]
          },
          "metadata": {},
          "execution_count": 125
        }
      ]
    },
    {
      "cell_type": "code",
      "metadata": {
        "id": "hmJmhRct-YHq"
      },
      "source": [
        "js = json.dumps(record)\n",
        "\n",
        "fd = open(\"record.json\",'w')\n",
        "fd.write(js)\n",
        "fd.close()"
      ],
      "execution_count": 126,
      "outputs": []
    },
    {
      "cell_type": "code",
      "metadata": {
        "id": "PbEQ9qXV-fE6"
      },
      "source": [
        ""
      ],
      "execution_count": null,
      "outputs": []
    }
  ]
}