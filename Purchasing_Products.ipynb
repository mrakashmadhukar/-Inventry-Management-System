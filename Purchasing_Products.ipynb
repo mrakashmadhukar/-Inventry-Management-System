{
  "nbformat": 4,
  "nbformat_minor": 0,
  "metadata": {
    "colab": {
      "name": "Purchasing Products.ipynb",
      "provenance": [],
      "collapsed_sections": []
    },
    "kernelspec": {
      "name": "python3",
      "display_name": "Python 3"
    },
    "language_info": {
      "name": "python"
    }
  },
  "cells": [
    {
      "cell_type": "code",
      "metadata": {
        "id": "f5_tV7P_GMIO"
      },
      "source": [
        "# Read Inventory"
      ],
      "execution_count": 24,
      "outputs": []
    },
    {
      "cell_type": "code",
      "metadata": {
        "id": "T49s-LNQCW9d"
      },
      "source": [
        "\n",
        "import json\n",
        "\n",
        "fd = open(\"record.json\",'r')\n",
        "r = fd.read()\n",
        "fd.close()\n",
        "\n",
        "records = json.loads(r)"
      ],
      "execution_count": 1,
      "outputs": []
    },
    {
      "cell_type": "code",
      "metadata": {
        "colab": {
          "base_uri": "https://localhost:8080/"
        },
        "id": "REZK_hIUCmz6",
        "outputId": "2aa876c7-941f-450d-846e-3edfb17f7f29"
      },
      "source": [
        "records"
      ],
      "execution_count": 3,
      "outputs": [
        {
          "output_type": "execute_result",
          "data": {
            "text/plain": [
              "{'1001': {'name': 'Choco Cake', 'pr': 100, 'qn': 34},\n",
              " '1002': {'name': 'Milk Cake', 'pr': 800, 'qn': 100},\n",
              " '1003': {'name': 'Drink', 'pr': 85, 'qn': 100},\n",
              " '1004': {'name': 'Candy', 'pr': 5, 'qn': 1000},\n",
              " '1005': {'name': 'Pen', 'pr': 20, 'qn': 100},\n",
              " '1006': {'name': 'Phone', 'pr': 50000, 'qn': 10},\n",
              " '1007': {'name': 'Mic', 'pr': 1500, 'qn': 0},\n",
              " '1008': {'name': 'Case', 'pr': 599, 'qn': 5},\n",
              " '1009': {'name': 'Keyboard', 'pr': 1999, 'qn': 10},\n",
              " '1010': {'name': 'Mouse', 'pr': 1500, 'qn': 10},\n",
              " '1011': {'name': 'Data Cable', 'pr': 250, 'qn': 20},\n",
              " '1012': {'name': 'Mouse 1', 'pr': 200, 'qn': 20},\n",
              " '1013': {'name': 'Desktop', 'pr': 50000, 'qn': 49},\n",
              " '1014': {'name': 'Gaming Mouse', 'pr': 700, 'qn': 30},\n",
              " '1015': {'name': 'Gaming Keyboard', 'pr': 5000, 'qn': 45},\n",
              " '1016': {'name': 'Head Phone', 'pr': 699, 'qn': 30},\n",
              " '1017': {'name': 'bluetooth Headphone', 'pr': 900, 'qn': 43},\n",
              " '1018': {'name': 'Usb Hub', 'pr': 600, 'qn': 49},\n",
              " '1019': {'name': 'Card  Reader', 'pr': 500, 'qn': 40},\n",
              " '1020': {'name': 'LED TV', 'pr': 15000, 'qn': 50},\n",
              " '1021': {'name': 'LCD', 'pr': 20000, 'qn': 30},\n",
              " '1022': {'name': 'Monitor ', 'pr': 30000, 'qn': 34},\n",
              " '1023': {'name': 'Notes ', 'pr': 400, 'qn': 23},\n",
              " '1025': {'name': 'Computer Table', 'pr': 890, 'qn': 34},\n",
              " '1026': {'name': 'Ac ', 'pr': 20000, 'qn': 20},\n",
              " '1027': {'name': 'AC 2L', 'pr': 50000, 'qn': 44},\n",
              " '1028': {'name': 'Ac 1.5L', 'pr': 24000, 'qn': 45},\n",
              " '1029': {'name': 'Ac 3L', 'pr': 56779, 'qn': 67},\n",
              " '1030': {'name': 'C Type Cable', 'pr': 300, 'qn': 10}}"
            ]
          },
          "metadata": {},
          "execution_count": 3
        }
      ]
    },
    {
      "cell_type": "code",
      "metadata": {
        "id": "8oVW0TLpCozx"
      },
      "source": [
        "# Purchase"
      ],
      "execution_count": 25,
      "outputs": []
    },
    {
      "cell_type": "code",
      "metadata": {
        "colab": {
          "base_uri": "https://localhost:8080/"
        },
        "id": "mnosPVhhCvfk",
        "outputId": "9a147ecf-4a3f-47c2-eb1b-b3a9ec61413c"
      },
      "source": [
        "ui_prod  = str(input(\"Enter the product_Id: \"))\n",
        "ui_quant = int(input(\"Enter the quantity: \"))\n",
        "\n",
        "\n",
        "print(\"Product: \", records[ui_prod]['name'])\n",
        "print(\"Price: \", records[ui_prod]['pr'])\n",
        "print(\"Billing Amount: \", records[ui_prod]['pr'] * ui_quant)\n",
        "\n",
        "records[ui_prod]['qn'] = records[ui_prod]['qn'] - ui_quant"
      ],
      "execution_count": 5,
      "outputs": [
        {
          "output_type": "stream",
          "name": "stdout",
          "text": [
            "Enter the product_Id: 1001\n",
            "Enter the quantity: 4\n",
            "Product:  Choco Cake\n",
            "Price:  100\n",
            "Billing Amount:  400\n"
          ]
        }
      ]
    },
    {
      "cell_type": "code",
      "metadata": {
        "colab": {
          "base_uri": "https://localhost:8080/"
        },
        "id": "Sq7jL8guCwZu",
        "outputId": "6e9ff0e9-c3ac-4163-b3a6-3000495053c8"
      },
      "source": [
        "ui_prod  = str(input(\"Enter the product_Id: \"))\n",
        "ui_quant = int(input(\"Enter the quantity: \"))\n",
        "\n",
        "\n",
        "print(\"Product: \", records[ui_prod]['name'])\n",
        "print(\"Price: \", records[ui_prod]['pr'])\n",
        "print(\"Billing Amount: \", records[ui_prod]['pr'] * ui_quant)\n",
        "\n",
        "records[ui_prod]['qn'] = records[ui_prod]['qn'] - ui_quant"
      ],
      "execution_count": 6,
      "outputs": [
        {
          "output_type": "stream",
          "name": "stdout",
          "text": [
            "Enter the product_Id: 1002\n",
            "Enter the quantity: 10\n",
            "Product:  Milk Cake\n",
            "Price:  800\n",
            "Billing Amount:  8000\n"
          ]
        }
      ]
    },
    {
      "cell_type": "code",
      "metadata": {
        "colab": {
          "base_uri": "https://localhost:8080/"
        },
        "id": "Z3Vb0MVtC5T7",
        "outputId": "7deea3b1-7ca4-479a-c8d6-4b90600ce30f"
      },
      "source": [
        "ui_prod  = str(input(\"Enter the product_Id: \"))\n",
        "ui_quant = int(input(\"Enter the quantity: \"))\n",
        "\n",
        "\n",
        "print(\"Product: \", records[ui_prod]['name'])\n",
        "print(\"Price: \", records[ui_prod]['pr'])\n",
        "print(\"Billing Amount: \", records[ui_prod]['pr'] * ui_quant)\n",
        "\n",
        "records[ui_prod]['qn'] = records[ui_prod]['qn'] - ui_quant"
      ],
      "execution_count": 7,
      "outputs": [
        {
          "output_type": "stream",
          "name": "stdout",
          "text": [
            "Enter the product_Id: 1003\n",
            "Enter the quantity: 3\n",
            "Product:  Drink\n",
            "Price:  85\n",
            "Billing Amount:  255\n"
          ]
        }
      ]
    },
    {
      "cell_type": "code",
      "metadata": {
        "colab": {
          "base_uri": "https://localhost:8080/"
        },
        "id": "hOVrMtLbC9pM",
        "outputId": "f86e03af-d0fb-4401-cd52-54f0f78db0fb"
      },
      "source": [
        "ui_prod  = str(input(\"Enter the product_Id: \"))\n",
        "ui_quant = int(input(\"Enter the quantity: \"))\n",
        "\n",
        "\n",
        "print(\"Product: \", records[ui_prod]['name'])\n",
        "print(\"Price: \", records[ui_prod]['pr'])\n",
        "print(\"Billing Amount: \", records[ui_prod]['pr'] * ui_quant)\n",
        "\n",
        "records[ui_prod]['qn'] = records[ui_prod]['qn'] - ui_quant"
      ],
      "execution_count": 8,
      "outputs": [
        {
          "output_type": "stream",
          "name": "stdout",
          "text": [
            "Enter the product_Id: 1004\n",
            "Enter the quantity: 1\n",
            "Product:  Candy\n",
            "Price:  5\n",
            "Billing Amount:  5\n"
          ]
        }
      ]
    },
    {
      "cell_type": "code",
      "metadata": {
        "colab": {
          "base_uri": "https://localhost:8080/"
        },
        "id": "aQLbiHL-DAKS",
        "outputId": "2b324749-5b8a-4ea8-b2c3-e6726aaa0e54"
      },
      "source": [
        "ui_prod  = str(input(\"Enter the product_Id: \"))\n",
        "ui_quant = int(input(\"Enter the quantity: \"))\n",
        "\n",
        "\n",
        "print(\"Product: \", records[ui_prod]['name'])\n",
        "print(\"Price: \", records[ui_prod]['pr'])\n",
        "print(\"Billing Amount: \", records[ui_prod]['pr'] * ui_quant)\n",
        "\n",
        "records[ui_prod]['qn'] = records[ui_prod]['qn'] - ui_quant"
      ],
      "execution_count": 9,
      "outputs": [
        {
          "output_type": "stream",
          "name": "stdout",
          "text": [
            "Enter the product_Id: 1005\n",
            "Enter the quantity: 5\n",
            "Product:  Pen\n",
            "Price:  20\n",
            "Billing Amount:  100\n"
          ]
        }
      ]
    },
    {
      "cell_type": "code",
      "metadata": {
        "colab": {
          "base_uri": "https://localhost:8080/"
        },
        "id": "-2SdJQuvDC62",
        "outputId": "ec103553-32d5-4ebd-ef7b-c7e59134e130"
      },
      "source": [
        "ui_prod  = str(input(\"Enter the product_Id: \"))\n",
        "ui_quant = int(input(\"Enter the quantity: \"))\n",
        "\n",
        "\n",
        "print(\"Product: \", records[ui_prod]['name'])\n",
        "print(\"Price: \", records[ui_prod]['pr'])\n",
        "print(\"Billing Amount: \", records[ui_prod]['pr'] * ui_quant)\n",
        "\n",
        "records[ui_prod]['qn'] = records[ui_prod]['qn'] - ui_quant"
      ],
      "execution_count": 10,
      "outputs": [
        {
          "output_type": "stream",
          "name": "stdout",
          "text": [
            "Enter the product_Id: 1006\n",
            "Enter the quantity: 6\n",
            "Product:  Phone\n",
            "Price:  50000\n",
            "Billing Amount:  300000\n"
          ]
        }
      ]
    },
    {
      "cell_type": "code",
      "metadata": {
        "colab": {
          "base_uri": "https://localhost:8080/"
        },
        "id": "w0lxkZApDFcG",
        "outputId": "c4867b9b-4ce7-4996-e426-253c086d0f8c"
      },
      "source": [
        "ui_prod  = str(input(\"Enter the product_Id: \"))\n",
        "ui_quant = int(input(\"Enter the quantity: \"))\n",
        "\n",
        "\n",
        "print(\"Product: \", records[ui_prod]['name'])\n",
        "print(\"Price: \", records[ui_prod]['pr'])\n",
        "print(\"Billing Amount: \", records[ui_prod]['pr'] * ui_quant)\n",
        "\n",
        "records[ui_prod]['qn'] = records[ui_prod]['qn'] - ui_quant"
      ],
      "execution_count": 11,
      "outputs": [
        {
          "output_type": "stream",
          "name": "stdout",
          "text": [
            "Enter the product_Id: 1007\n",
            "Enter the quantity: 1\n",
            "Product:  Mic\n",
            "Price:  1500\n",
            "Billing Amount:  1500\n"
          ]
        }
      ]
    },
    {
      "cell_type": "code",
      "metadata": {
        "colab": {
          "base_uri": "https://localhost:8080/"
        },
        "id": "tZQe-Ra0DJ3i",
        "outputId": "e5ba7978-eb49-42d1-e5ec-b7290208702a"
      },
      "source": [
        "ui_prod  = str(input(\"Enter the product_Id: \"))\n",
        "ui_quant = int(input(\"Enter the quantity: \"))\n",
        "\n",
        "\n",
        "print(\"Product: \", records[ui_prod]['name'])\n",
        "print(\"Price: \", records[ui_prod]['pr'])\n",
        "print(\"Billing Amount: \", records[ui_prod]['pr'] * ui_quant)\n",
        "\n",
        "records[ui_prod]['qn'] = records[ui_prod]['qn'] - ui_quant"
      ],
      "execution_count": 12,
      "outputs": [
        {
          "output_type": "stream",
          "name": "stdout",
          "text": [
            "Enter the product_Id: 1008\n",
            "Enter the quantity: 3\n",
            "Product:  Case\n",
            "Price:  599\n",
            "Billing Amount:  1797\n"
          ]
        }
      ]
    },
    {
      "cell_type": "code",
      "metadata": {
        "colab": {
          "base_uri": "https://localhost:8080/"
        },
        "id": "TXZ1_iH7DOJv",
        "outputId": "cda6f914-d69f-42eb-f2fc-2b7f66076e83"
      },
      "source": [
        "ui_prod  = str(input(\"Enter the product_Id: \"))\n",
        "ui_quant = int(input(\"Enter the quantity: \"))\n",
        "\n",
        "\n",
        "print(\"Product: \", records[ui_prod]['name'])\n",
        "print(\"Price: \", records[ui_prod]['pr'])\n",
        "print(\"Billing Amount: \", records[ui_prod]['pr'] * ui_quant)\n",
        "\n",
        "records[ui_prod]['qn'] = records[ui_prod]['qn'] - ui_quant"
      ],
      "execution_count": 13,
      "outputs": [
        {
          "output_type": "stream",
          "name": "stdout",
          "text": [
            "Enter the product_Id: 1009\n",
            "Enter the quantity: 6\n",
            "Product:  Keyboard\n",
            "Price:  1999\n",
            "Billing Amount:  11994\n"
          ]
        }
      ]
    },
    {
      "cell_type": "code",
      "metadata": {
        "colab": {
          "base_uri": "https://localhost:8080/"
        },
        "id": "BTWdPEQKDQfl",
        "outputId": "e5a08f9f-2776-45ef-db66-ecbcc535ea6f"
      },
      "source": [
        "ui_prod  = str(input(\"Enter the product_Id: \"))\n",
        "ui_quant = int(input(\"Enter the quantity: \"))\n",
        "\n",
        "\n",
        "print(\"Product: \", records[ui_prod]['name'])\n",
        "print(\"Price: \", records[ui_prod]['pr'])\n",
        "print(\"Billing Amount: \", records[ui_prod]['pr'] * ui_quant)\n",
        "\n",
        "records[ui_prod]['qn'] = records[ui_prod]['qn'] - ui_quant"
      ],
      "execution_count": 14,
      "outputs": [
        {
          "output_type": "stream",
          "name": "stdout",
          "text": [
            "Enter the product_Id: 1010\n",
            "Enter the quantity: 4\n",
            "Product:  Mouse\n",
            "Price:  1500\n",
            "Billing Amount:  6000\n"
          ]
        }
      ]
    },
    {
      "cell_type": "code",
      "metadata": {
        "id": "C8uaCuLcDVoZ"
      },
      "source": [
        "# Update Inventory after purchase"
      ],
      "execution_count": 26,
      "outputs": []
    },
    {
      "cell_type": "code",
      "metadata": {
        "id": "vNMk6Mj5DoU6"
      },
      "source": [
        "js = json.dumps(records)\n",
        "\n",
        "fd = open(\"record.json\",'w')\n",
        "fd.write(js)\n",
        "fd.close()"
      ],
      "execution_count": 16,
      "outputs": []
    },
    {
      "cell_type": "code",
      "metadata": {
        "id": "e45otWNvGq6K"
      },
      "source": [
        "#  Sales JSON"
      ],
      "execution_count": 27,
      "outputs": []
    },
    {
      "cell_type": "code",
      "metadata": {
        "colab": {
          "base_uri": "https://localhost:8080/"
        },
        "id": "ZZSNSXJUDo-i",
        "outputId": "43ec00d2-d848-419d-809d-2d74e7ae02e8"
      },
      "source": [
        "{'prod' : ui_prod, 'qn' : ui_quant, 'amount': records[ui_prod]['pr'] * ui_quant}"
      ],
      "execution_count": 19,
      "outputs": [
        {
          "output_type": "execute_result",
          "data": {
            "text/plain": [
              "{'amount': 6000, 'prod': '1010', 'qn': 4}"
            ]
          },
          "metadata": {},
          "execution_count": 19
        }
      ]
    },
    {
      "cell_type": "code",
      "metadata": {
        "id": "RJ4JDAF-G2j_"
      },
      "source": [
        " # New Record After Purchasing "
      ],
      "execution_count": 28,
      "outputs": []
    },
    {
      "cell_type": "code",
      "metadata": {
        "colab": {
          "base_uri": "https://localhost:8080/"
        },
        "id": "4jjg-RXrEVV9",
        "outputId": "774e35be-f130-4ccf-c246-426f00f7e74d"
      },
      "source": [
        "records"
      ],
      "execution_count": 29,
      "outputs": [
        {
          "output_type": "execute_result",
          "data": {
            "text/plain": [
              "{'1001': {'name': 'Choco Cake', 'pr': 100, 'qn': 30},\n",
              " '1002': {'name': 'Milk Cake', 'pr': 800, 'qn': 90},\n",
              " '1003': {'name': 'Drink', 'pr': 85, 'qn': 97},\n",
              " '1004': {'name': 'Candy', 'pr': 5, 'qn': 999},\n",
              " '1005': {'name': 'Pen', 'pr': 20, 'qn': 95},\n",
              " '1006': {'name': 'Phone', 'pr': 50000, 'qn': 4},\n",
              " '1007': {'name': 'Mic', 'pr': 1500, 'qn': -1},\n",
              " '1008': {'name': 'Case', 'pr': 599, 'qn': 2},\n",
              " '1009': {'name': 'Keyboard', 'pr': 1999, 'qn': 4},\n",
              " '1010': {'name': 'Mouse', 'pr': 1500, 'qn': 6},\n",
              " '1011': {'name': 'Data Cable', 'pr': 250, 'qn': 20},\n",
              " '1012': {'name': 'Mouse 1', 'pr': 200, 'qn': 20},\n",
              " '1013': {'name': 'Desktop', 'pr': 50000, 'qn': 49},\n",
              " '1014': {'name': 'Gaming Mouse', 'pr': 700, 'qn': 30},\n",
              " '1015': {'name': 'Gaming Keyboard', 'pr': 5000, 'qn': 45},\n",
              " '1016': {'name': 'Head Phone', 'pr': 699, 'qn': 30},\n",
              " '1017': {'name': 'bluetooth Headphone', 'pr': 900, 'qn': 43},\n",
              " '1018': {'name': 'Usb Hub', 'pr': 600, 'qn': 49},\n",
              " '1019': {'name': 'Card  Reader', 'pr': 500, 'qn': 40},\n",
              " '1020': {'name': 'LED TV', 'pr': 15000, 'qn': 50},\n",
              " '1021': {'name': 'LCD', 'pr': 20000, 'qn': 30},\n",
              " '1022': {'name': 'Monitor ', 'pr': 30000, 'qn': 34},\n",
              " '1023': {'name': 'Notes ', 'pr': 400, 'qn': 23},\n",
              " '1025': {'name': 'Computer Table', 'pr': 890, 'qn': 34},\n",
              " '1026': {'name': 'Ac ', 'pr': 20000, 'qn': 20},\n",
              " '1027': {'name': 'AC 2L', 'pr': 50000, 'qn': 44},\n",
              " '1028': {'name': 'Ac 1.5L', 'pr': 24000, 'qn': 45},\n",
              " '1029': {'name': 'Ac 3L', 'pr': 56779, 'qn': 67},\n",
              " '1030': {'name': 'C Type Cable', 'pr': 300, 'qn': 10}}"
            ]
          },
          "metadata": {},
          "execution_count": 29
        }
      ]
    },
    {
      "cell_type": "code",
      "metadata": {
        "id": "1b_kmwIDEWLS"
      },
      "source": [
        "sales = {1 : {'prod' : ui_prod, 'qn' : ui_quant, 'amount': records[ui_prod]['pr'] * ui_quant},\n",
        "         2 : {'prod' : ui_prod, 'qn' : ui_quant, 'amount': records[ui_prod]['pr'] * ui_quant},\n",
        "         3 : {'prod' : ui_prod, 'qn' : ui_quant, 'amount': records[ui_prod]['pr'] * ui_quant}}"
      ],
      "execution_count": 22,
      "outputs": []
    },
    {
      "cell_type": "code",
      "metadata": {
        "id": "Bj0BT2KbEz0T"
      },
      "source": [
        "sale = json.dumps(sales)"
      ],
      "execution_count": 23,
      "outputs": []
    },
    {
      "cell_type": "code",
      "metadata": {
        "id": "4B5eufXYE4rl"
      },
      "source": [
        ""
      ],
      "execution_count": null,
      "outputs": []
    }
  ]
}